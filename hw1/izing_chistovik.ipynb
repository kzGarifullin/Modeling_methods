{
 "cells": [
  {
   "cell_type": "markdown",
   "metadata": {},
   "source": [
    "# Лабораторная работа №1"
   ]
  },
  {
   "cell_type": "markdown",
   "metadata": {},
   "source": [
    "### Двумерная модель Изинга"
   ]
  },
  {
   "cell_type": "markdown",
   "metadata": {},
   "source": [
    "#### Гарифуллин Камиль, Б04-902"
   ]
  },
  {
   "cell_type": "markdown",
   "metadata": {},
   "source": [
    "Модель Изинга была введена для понимания природы ферромагнетизма и повлияла на изучение фазовых переходов и критических явлений. Ферромагнетизм описывает появление самопроизвольной намагниченности у ферромагнетиков ниже определенной температуры — точки Кюри. В точке Кюри (узкой области температур) происходит упорядочение, в данном случае, выстраивание магнитных моментов, которое влечет фазовый переход, то есть свойства вещества меняются скачком."
   ]
  },
  {
   "cell_type": "markdown",
   "metadata": {},
   "source": [
    " В данной модели, каждая вершина кристаллической решетки принимает число - спин и принимает хначения +1 или -1(«вверх» или «вниз»). Каждому состоянию соответствует энергия, которая получается из попарного взаимодействия спинов соседних атомов:"
   ]
  },
  {
   "cell_type": "markdown",
   "metadata": {},
   "source": [
    "$$E = -J\\sum{s_i s_j}$$"
   ]
  },
  {
   "cell_type": "markdown",
   "metadata": {},
   "source": [
    "Где J — энергия взаимодействия соседних спинов (константа обменного взаимодействия одна и та же для всех пар).\n",
    "При этом J > 0 описывает поведение ферромагнетика, J < 0 антиферромагнетика."
   ]
  },
  {
   "cell_type": "markdown",
   "metadata": {},
   "source": [
    "Смоделируем систему спинов 10x10 с помощью алгоритма Метрополиса:"
   ]
  },
  {
   "cell_type": "markdown",
   "metadata": {},
   "source": [
    "1)cформируем начальную конфигурацию.\n",
    "\n",
    "2)выбирем и опрокинем случайным образом какой-нибудь спин.\n",
    "\n",
    "3)вычисляем ∆Е, обусловленное произведенным пробным изменением конфигурации.\n",
    "\n",
    "4)∆Е <=0 => принимаем новую конфигурацию и переходим к шагу 8.\n",
    "\n",
    "5)∆Е >0 => вычисляем «вероятность перехода»:\n",
    "\n"
   ]
  },
  {
   "cell_type": "markdown",
   "metadata": {},
   "source": [
    "$$W = exp(-∆Е/kT)$$"
   ]
  },
  {
   "cell_type": "markdown",
   "metadata": {},
   "source": [
    "6)генерируем случайное число rnd в интервале (0, 1)\n",
    "\n",
    "7) rnd≤W => принимаем новую конфигурацию, иначе сохраняем предыдущую конфигурацию.\n",
    "\n",
    "8) считаем физические величины.\n",
    "\n",
    "9)повторяем 2–8 для получения достаточного числа конфигураций.\n",
    "\n",
    "10)вычисляем средние по конфигурациям, которые статистически независимы друг от друга."
   ]
  },
  {
   "cell_type": "code",
   "execution_count": 2,
   "metadata": {},
   "outputs": [],
   "source": [
    "import random\n",
    "import math\n",
    "import matplotlib\n",
    "import time"
   ]
  },
  {
   "cell_type": "code",
   "execution_count": 3,
   "metadata": {},
   "outputs": [],
   "source": [
    "\n",
    "#энергия одного спина\n",
    "def energy(i, j, chain):\n",
    "    l = len(chain)\n",
    "    return -(chain[i-1][j] * chain[i][j] + chain[i][j] * chain[(i+1)%l][j] + chain[i][j-1] * chain[i][j] + chain[i][j] * chain[i][(j+1)%l])/4.0\n",
    "\n",
    "#разница между пробной энергией и текущей\n",
    "#def try_energy(i, j, chain):\n",
    "#    return -8*energy(i, j, chain)\n",
    "def try_energy(i, j, chain):\n",
    "    old  = energy(i, j, chain)\n",
    "    chain[i][j] = -chain[i][j]\n",
    "    new  = energy(i, j, chain)\n",
    "    chain[i][j] = -chain[i][j]\n",
    "    return (new - old)   \n",
    "def make_chain(N):\n",
    "    b = []\n",
    "    for j in range(N):\n",
    "        a = [-1 if random.randint(0, 1) else 1 for _ in range(N)]\n",
    "        b.append(a)\n",
    "    return b \n",
    "\n",
    "def calc_tot_en(chain):\n",
    "    l = len(chain)\n",
    "    tot_en = 0.0\n",
    "    for i in range(l):\n",
    "        for j in range(l):\n",
    "            tot_en = tot_en + energy(i, j, chain)\n",
    "    return tot_en\n",
    "\n",
    "\n",
    "def average_E (chain, T, Niter=100):\n",
    "    tot_en = calc_tot_en(chain)\n",
    "    avg_en = 0.0\n",
    "    N = len(chain)\n",
    "    for i in range(Niter):\n",
    "        try_id_i = random.randint(0, N-1)\n",
    "        try_id_j = random.randint(0, N-1)\n",
    "        delta_E = 4 * try_energy(try_id_i, try_id_j, chain)\n",
    "        #print (delta_E)\n",
    "        if delta_E < 0:\n",
    "            tot_en += delta_E\n",
    "            chain[try_id_i][try_id_j] = -chain[try_id_i][try_id_j]\n",
    "        else:\n",
    "            if random.uniform(0,1) < math.exp(-(delta_E)/T):\n",
    "                tot_en += delta_E\n",
    "                chain[try_id_i][try_id_j] = -chain[try_id_i][try_id_j]\n",
    "        avg_en += tot_en/Niter\n",
    "    return avg_en\n",
    "      \n",
    "\n",
    "def metropolis(chain, T, etol=0.0001, steps_per_cycle=100):\n",
    "    avg_en = 0.0\n",
    "    avg_en_prev = -100*etol\n",
    "    Ncycles = 0\n",
    "    energies = []\n",
    "    steps = 0\n",
    "    while math.fabs(avg_en-avg_en_prev) > etol:\n",
    "        #print (avg_en_prev, avg_en)\n",
    "        avg_en_prev = avg_en\n",
    "        steps += steps_per_cycle\n",
    "        avg_en = average_E(chain, T, steps_per_cycle)\n",
    "        energies.append(avg_en)\n",
    "        avg_en = (avg_en_prev*Ncycles+avg_en)/(Ncycles+1)\n",
    "        Ncycles += 1\n",
    "    return energies"
   ]
  },
  {
   "cell_type": "code",
   "execution_count": 4,
   "metadata": {},
   "outputs": [],
   "source": [
    "T_list = [0.1 * i for i in range(1,40)]\n",
    "sim_list=[]\n",
    "th_list=[]\n",
    "disp_list=[]"
   ]
  },
  {
   "cell_type": "code",
   "execution_count": 5,
   "metadata": {},
   "outputs": [
    {
     "name": "stdout",
     "output_type": "stream",
     "text": [
      "T:  0.1\n",
      "T:  0.2\n",
      "T:  0.30000000000000004\n",
      "T:  0.4\n",
      "T:  0.5\n",
      "T:  0.6000000000000001\n",
      "T:  0.7000000000000001\n",
      "T:  0.8\n",
      "T:  0.9\n",
      "T:  1.0\n",
      "T:  1.1\n",
      "T:  1.2000000000000002\n",
      "T:  1.3\n",
      "T:  1.4000000000000001\n",
      "T:  1.5\n",
      "T:  1.6\n",
      "T:  1.7000000000000002\n",
      "T:  1.8\n",
      "T:  1.9000000000000001\n",
      "T:  2.0\n",
      "T:  2.1\n",
      "T:  2.2\n",
      "T:  2.3000000000000003\n",
      "T:  2.4000000000000004\n",
      "T:  2.5\n",
      "T:  2.6\n",
      "T:  2.7\n",
      "T:  2.8000000000000003\n",
      "T:  2.9000000000000004\n",
      "T:  3.0\n",
      "T:  3.1\n",
      "T:  3.2\n",
      "T:  3.3000000000000003\n",
      "T:  3.4000000000000004\n",
      "T:  3.5\n",
      "T:  3.6\n",
      "T:  3.7\n",
      "T:  3.8000000000000003\n",
      "T:  3.9000000000000004\n",
      "--- 546.6591334342957 seconds ---\n"
     ]
    }
   ],
   "source": [
    "start_time = time.time()\n",
    "for T in T_list:\n",
    "\n",
    "    N = 10\n",
    "  \n",
    "    chain = make_chain(N)\n",
    "    energies = metropolis(chain, T, etol = 1e-6)\n",
    "\n",
    "    disp = 0\n",
    "    average = sum(energies)/len(energies)\n",
    "    for i in range(len(energies)):\n",
    "        disp += (energies[i] - average)**2\n",
    "    disp = math.sqrt(disp/math.fabs(average))\n",
    "    disp_list.append(disp)\n",
    "    print(\"T: \", T)\n",
    "    #print(\"simulation\") \n",
    "    #print (sum(energies)/len(energies))\n",
    "\n",
    "    theory = -N * N * math.tanh(1/T)\n",
    "    #print(\"theory\")\n",
    "    #print (theory)\n",
    "    #print(\"disp\")\n",
    "    #print(disp)\n",
    "    sim_list.append(sum(energies)/len(energies))\n",
    "    th_list.append(theory)\n",
    "print(\"--- %s seconds ---\" % (time.time() - start_time))"
   ]
  },
  {
   "cell_type": "markdown",
   "metadata": {},
   "source": [
    "Получили зависимость средней энергии от температуры в диапазоне от 0 до 4 J/k,\n",
    "где J – энергия взаимодействия, k – константа Больцмана."
   ]
  },
  {
   "cell_type": "code",
   "execution_count": 6,
   "metadata": {},
   "outputs": [
    {
     "data": {
      "image/png": "[encoded data removed]",
      "text/plain": [
       "<Figure size 720x360 with 1 Axes>"
      ]
     },
     "metadata": {
      "needs_background": "light"
     },
     "output_type": "display_data"
    }
   ],
   "source": [
    "import numpy as np\n",
    "import matplotlib.pyplot as plt\n",
    "plt.figure(figsize=(10, 5))\n",
    "plt.plot(T_list, th_list, label=r'theory')\n",
    "plt.plot(T_list, sim_list, label=r'simulation')\n",
    "plt.xlabel(r'$T$', fontsize=14)\n",
    "plt.ylabel(r'$E$', fontsize=14)\n",
    "plt.grid(True)\n",
    "plt.legend(loc='best', fontsize=12)\n",
    "\n",
    "plt.show()"
   ]
  },
  {
   "cell_type": "markdown",
   "metadata": {},
   "source": [
    "Лист дисперсий:"
   ]
  },
  {
   "cell_type": "code",
   "execution_count": 9,
   "metadata": {},
   "outputs": [
    {
     "data": {
      "text/plain": [
       "[10.111927434024494,\n",
       " 11.933536376585794,\n",
       " 13.335220479808003,\n",
       " 11.800065005928431,\n",
       " 9.146561850595726,\n",
       " 10.17150606144032,\n",
       " 9.862494387039163,\n",
       " 14.677735044174332,\n",
       " 15.29478929057604,\n",
       " 13.540458409160445,\n",
       " 13.46268852706076,\n",
       " 16.105697296916944,\n",
       " 18.11284694120569,\n",
       " 17.666494468362544,\n",
       " 24.928926914790374,\n",
       " 25.917721218870437,\n",
       " 28.724527627368605,\n",
       " 53.70485027375305,\n",
       " 61.448044314854805,\n",
       " 61.80045958189419,\n",
       " 102.59392106074775,\n",
       " 54.61911883636705,\n",
       " 114.64455309573775,\n",
       " 144.0561026482999,\n",
       " 154.79136173776837,\n",
       " 96.29525254596388,\n",
       " 144.58457245981944,\n",
       " 136.92989103477254,\n",
       " 58.803761485868314,\n",
       " 115.8799116220103,\n",
       " 120.8012091255412,\n",
       " 56.39927204416115,\n",
       " 109.54521702327342,\n",
       " 100.14904065259773,\n",
       " 131.70598828982722,\n",
       " 100.84037374930304,\n",
       " 106.84551720055491,\n",
       " 109.90338047307148,\n",
       " 167.84773463031243]"
      ]
     },
     "execution_count": 9,
     "metadata": {},
     "output_type": "execute_result"
    }
   ],
   "source": [
    "disp_list"
   ]
  },
  {
   "cell_type": "markdown",
   "metadata": {},
   "source": [
    "Проверим наличие фазового перехода в 2.27 J/k. Для этого найдем точку перегиба графика(вторая производная). "
   ]
  },
  {
   "cell_type": "code",
   "execution_count": 24,
   "metadata": {},
   "outputs": [
    {
     "name": "stdout",
     "output_type": "stream",
     "text": [
      "2.1\n",
      "3.1\n"
     ]
    }
   ],
   "source": [
    "print(T_list[20])\n",
    "print(T_list[30])"
   ]
  },
  {
   "cell_type": "code",
   "execution_count": 25,
   "metadata": {},
   "outputs": [
    {
     "data": {
      "text/plain": [
       "array([-1.87654908, -0.56489565,  3.67796915, -4.31804778, -1.72390796,\n",
       "        2.80674637, -3.20225061,  0.40178907])"
      ]
     },
     "execution_count": 25,
     "metadata": {},
     "output_type": "execute_result"
    }
   ],
   "source": [
    "x = np.array(sim_list)\n",
    "np.diff(np.diff(x[20:30]))"
   ]
  },
  {
   "cell_type": "code",
   "execution_count": 26,
   "metadata": {},
   "outputs": [],
   "source": [
    "x = np.array(sim_list)\n",
    "x_2 = np.diff(np.diff(x))"
   ]
  },
  {
   "cell_type": "code",
   "execution_count": 33,
   "metadata": {},
   "outputs": [
    {
     "data": {
      "text/plain": [
       "array([-1.39018368e-03,  1.54002961e-02, -1.83413744e-02,  1.07251792e-01,\n",
       "       -2.00133396e-01,  1.71925897e-01,  1.57612944e-01, -3.82216363e-01,\n",
       "        3.84467144e-01,  2.47081969e-01, -2.37162711e-01,  2.38920202e-01,\n",
       "        4.75976701e-01,  4.06437683e-01,  7.52991918e-01, -1.57710995e-01,\n",
       "       -3.58048163e-01,  1.91686619e+00,  4.03040951e-03,  3.67959168e+00,\n",
       "       -1.87654908e+00, -5.64895647e-01,  3.67796915e+00, -4.31804778e+00,\n",
       "       -1.72390796e+00,  2.80674637e+00, -3.20225061e+00,  4.01789074e-01,\n",
       "        1.92199065e-01, -1.28062412e+00,  5.80038537e-02,  2.60806364e-01,\n",
       "        1.52059490e-02, -6.54038809e-01,  2.52571788e-01, -1.26240126e-01,\n",
       "       -3.56946974e-01])"
      ]
     },
     "execution_count": 33,
     "metadata": {},
     "output_type": "execute_result"
    }
   ],
   "source": [
    "x_2"
   ]
  },
  {
   "cell_type": "code",
   "execution_count": 32,
   "metadata": {},
   "outputs": [
    {
     "name": "stdout",
     "output_type": "stream",
     "text": [
      "3.677969147717839\n",
      "2.3000000000000003\n"
     ]
    }
   ],
   "source": [
    "print(x_2[22])\n",
    "print(T_list[22])"
   ]
  },
  {
   "cell_type": "markdown",
   "metadata": {},
   "source": [
    "Таким образом, видно, что при T=2.3 J/k знак второй производной меняется(до 2.3 J/k производная отрицательна, после положительна)."
   ]
  },
  {
   "cell_type": "markdown",
   "metadata": {},
   "source": [
    "### Добавим магнитное поле"
   ]
  },
  {
   "cell_type": "markdown",
   "metadata": {},
   "source": [
    "Если поместить модель во внешнее магнитное поле H, то полная энергия примет вид:"
   ]
  },
  {
   "cell_type": "markdown",
   "metadata": {},
   "source": [
    "$$E = -J\\sum{s_i s_j} - H \\sum{s_i}$$"
   ]
  },
  {
   "cell_type": "markdown",
   "metadata": {},
   "source": [
    "Суммарный магнитный момент или намагниченность определяется по следующей формуле:"
   ]
  },
  {
   "cell_type": "markdown",
   "metadata": {},
   "source": [
    "$$M =  \\sum{s_i}$$"
   ]
  },
  {
   "cell_type": "markdown",
   "metadata": {},
   "source": [
    "Добавим магнитное поле H = 1. При этом магнитная восприимчивость будет равна намагниченности."
   ]
  },
  {
   "cell_type": "code",
   "execution_count": 37,
   "metadata": {},
   "outputs": [],
   "source": [
    "\n",
    "#энергия одного спина\n",
    "def energy(H, i, j, chain):\n",
    "    l = len(chain)\n",
    "    return -(chain[i-1][j] * chain[i][j] + chain[i][j] * chain[(i+1)%l][j] + chain[i][j-1] * chain[i][j] + chain[i][j] * chain[i][(j+1)%l])\n",
    "def energy_H(H, i, j, chain):\n",
    "    l = len(chain)\n",
    "    return -H * chain[i][j]\n",
    "\n",
    "#разница между пробной энергией и текущей\n",
    "#def try_energy(i, j, chain):\n",
    "#    return -8*energy(i, j, chain)\n",
    "def try_energy(H, i, j, chain):\n",
    "    old  = energy(H, i, j, chain) + energy_H(H, i, j, chain)\n",
    "    chain[i][j] = -chain[i][j]\n",
    "    new  = energy(H, i, j, chain) + energy_H(H, i, j, chain)\n",
    "    chain[i][j] = -chain[i][j]\n",
    "    return (new - old)   \n",
    "def make_chain(N):\n",
    "    b = []\n",
    "    for j in range(N):\n",
    "        a = [-1 if random.randint(0, 1) else 1 for _ in range(N)]\n",
    "        b.append(a)\n",
    "    return b \n",
    "\n",
    "def calc_tot_en(H, chain):\n",
    "    l = len(chain)\n",
    "    tot_en = 0.0\n",
    "    \n",
    "    for i in range(l):\n",
    "        for j in range(l):\n",
    "            tot_en = tot_en + energy(H, i, j, chain)/4.0 + energy_H(H, i, j, chain)\n",
    "            \n",
    "            \n",
    "    return tot_en\n",
    "\n",
    "\n",
    "def average_E (H, chain, T, Niter=100):\n",
    "    tot_en = calc_tot_en(H, chain)\n",
    "    avg_en = 0.0\n",
    "    N = len(chain)\n",
    "    for i in range(Niter):\n",
    "        try_id_i = random.randint(0, N-1)\n",
    "        try_id_j = random.randint(0, N-1)\n",
    "        delta_E = try_energy(H, try_id_i, try_id_j, chain)\n",
    "        #print (delta_E)\n",
    "        if delta_E < 0:\n",
    "            tot_en += delta_E\n",
    "            chain[try_id_i][try_id_j] = -chain[try_id_i][try_id_j]\n",
    "        else:\n",
    "            if random.uniform(0,1) < math.exp(-(delta_E)/T):\n",
    "                tot_en += delta_E\n",
    "                chain[try_id_i][try_id_j] = -chain[try_id_i][try_id_j]\n",
    "        avg_en += tot_en/Niter\n",
    "    return avg_en\n",
    "      \n",
    "\n",
    "def metropolis(H, chain, T, etol=0.0001, steps_per_cycle=100):\n",
    "    avg_en = 0.0\n",
    "    avg_en_prev = -100*etol\n",
    "    Ncycles = 0\n",
    "    energies = []\n",
    "    M_list = []\n",
    "    steps = 0\n",
    "    while math.fabs(avg_en - avg_en_prev) > etol:#сходимость\n",
    "        #print (avg_en_prev, avg_en)\n",
    "        avg_en_prev = avg_en\n",
    "        steps += steps_per_cycle\n",
    "        avg_en = average_E(H, chain, T, steps_per_cycle)\n",
    "        M = 0\n",
    "        l = len(chain)\n",
    "        for i in range(l):\n",
    "            for j in range(l):\n",
    "                M = M + chain[i][j]\n",
    "        energies.append(avg_en)\n",
    "        M_list.append(M)\n",
    "        avg_en = (avg_en_prev*Ncycles+avg_en)/(Ncycles+1)\n",
    "        Ncycles += 1\n",
    "    return energies, M_list"
   ]
  },
  {
   "cell_type": "code",
   "execution_count": 53,
   "metadata": {
    "scrolled": false
   },
   "outputs": [
    {
     "name": "stdout",
     "output_type": "stream",
     "text": [
      "0.3\n",
      "-199.9818451200705\n",
      "99.99217889402952\n",
      "100\n",
      "0.6\n",
      "-199.9859187730758\n",
      "99.99488781596138\n",
      "100\n",
      "0.8999999999999999\n",
      "-199.97631887852046\n",
      "99.9912173288857\n",
      "100\n",
      "1.2\n",
      "-199.79523462270134\n",
      "99.93214965123653\n",
      "100\n",
      "1.5\n",
      "-199.18818025680844\n",
      "99.72029115891061\n",
      "98\n",
      "1.7999999999999998\n",
      "-197.3911764286222\n",
      "99.10580009987872\n",
      "100\n",
      "2.1\n",
      "-193.33915452930728\n",
      "97.67033747779752\n",
      "98\n",
      "2.4\n",
      "-187.839937007874\n",
      "95.61889763779527\n",
      "96\n",
      "2.6999999999999997\n",
      "-179.94030467163245\n",
      "92.58970886932973\n",
      "92\n",
      "3.0\n",
      "-169.91930020057924\n",
      "88.6382883886784\n",
      "94\n",
      "3.3\n",
      "-157.43818359375\n",
      "83.34765625\n",
      "72\n",
      "3.5999999999999996\n",
      "-143.05572715039824\n",
      "77.09036331642687\n",
      "78\n",
      "3.9\n",
      "-128.4597830714646\n",
      "70.34161175874303\n",
      "74\n",
      "4.2\n",
      "-115.12274978153243\n",
      "63.86775415088844\n",
      "64\n",
      "4.5\n",
      "-102.75581153922954\n",
      "57.70892393691356\n",
      "50\n",
      "4.8\n",
      "-92.37781565373382\n",
      "52.305449652388425\n",
      "46\n",
      "5.1\n",
      "-81.1804347826088\n",
      "46.160370634354955\n",
      "54\n",
      "5.3999999999999995\n",
      "-74.68336516598444\n",
      "42.60027285129604\n",
      "30\n",
      "5.7\n",
      "-66.31936813186809\n",
      "38.04120879120879\n",
      "48\n",
      "6.0\n",
      "-59.89848515864884\n",
      "34.344933469805525\n",
      "40\n",
      "6.3\n",
      "-56.4203171726325\n",
      "32.45491617580426\n",
      "30\n",
      "6.6\n",
      "-52.31707784098804\n",
      "30.155126959900098\n",
      "30\n",
      "6.8999999999999995\n",
      "-47.683753846153856\n",
      "27.332544378698223\n",
      "30\n",
      "7.199999999999999\n",
      "-44.338843018669586\n",
      "25.26216145148567\n",
      "32\n",
      "7.5\n",
      "-42.03639960918435\n",
      "23.94675134342941\n",
      "38\n",
      "7.8\n",
      "-39.339152737752194\n",
      "22.423823246878\n",
      "38\n",
      "8.1\n",
      "-37.38282630029431\n",
      "21.342492639842984\n",
      "18\n",
      "8.4\n",
      "-35.841023727801854\n",
      "20.463214445605132\n",
      "22\n",
      "8.7\n",
      "-34.21682115085535\n",
      "19.17573872472784\n",
      "20\n",
      "9.0\n",
      "-32.36012437381252\n",
      "18.584211435481084\n",
      "18\n",
      "9.299999999999999\n",
      "-30.27722828825794\n",
      "16.89769863934151\n",
      "26\n",
      "9.6\n",
      "-29.66580062407629\n",
      "16.864838232878963\n",
      "8\n",
      "9.9\n",
      "-28.0408298590431\n",
      "15.768910065515188\n",
      "4\n",
      "10.2\n",
      "-26.82215084599934\n",
      "15.129911098365357\n",
      "26\n",
      "10.5\n",
      "-25.757718404613122\n",
      "14.335607880826526\n",
      "30\n",
      "10.799999999999999\n",
      "-24.963536404160426\n",
      "13.916196136701338\n",
      "16\n",
      "11.1\n",
      "-23.25351650038374\n",
      "12.662778204144283\n",
      "0\n",
      "11.4\n",
      "-23.049250524955614\n",
      "12.864319172993055\n",
      "20\n",
      "11.7\n",
      "-21.78182377049179\n",
      "11.952868852459016\n",
      "12\n",
      "12.0\n",
      "-21.581841368584783\n",
      "11.73623639191291\n",
      "8\n",
      "12.299999999999999\n",
      "-20.916950325732934\n",
      "11.42385993485342\n",
      "12\n",
      "12.6\n",
      "-21.319497098646032\n",
      "11.972920696324952\n",
      "16\n",
      "12.9\n",
      "-19.575949952400403\n",
      "10.836665306677547\n",
      "4\n",
      "13.2\n",
      "-19.03741778319124\n",
      "10.529598051157125\n",
      "12\n",
      "13.5\n",
      "-18.24142506142505\n",
      "9.785421785421786\n",
      "6\n",
      "13.799999999999999\n",
      "-17.984549373845212\n",
      "9.84684869636625\n",
      "16\n",
      "14.1\n",
      "-17.760876865671623\n",
      "9.33955223880597\n",
      "4\n",
      "14.399999999999999\n",
      "-17.042386715451723\n",
      "9.576695750070362\n",
      "24\n",
      "14.7\n",
      "-16.605530126109283\n",
      "9.031605168924179\n",
      "34\n",
      "15.0\n",
      "-16.255754895767502\n",
      "8.865445356917245\n",
      "12\n",
      "15.299999999999999\n",
      "-15.995619661111844\n",
      "8.596835177146058\n",
      "2\n",
      "15.6\n",
      "-15.954307589880186\n",
      "8.823901464713716\n",
      "14\n",
      "15.899999999999999\n",
      "-15.762681600000002\n",
      "8.58112\n",
      "10\n",
      "16.2\n",
      "-15.378533787417116\n",
      "8.321563004122602\n",
      "2\n",
      "16.5\n",
      "-14.50356084418497\n",
      "7.794342164346655\n",
      "2\n",
      "16.8\n",
      "-13.919668403600184\n",
      "7.599242065371862\n",
      "-8\n",
      "17.099999999999998\n",
      "-13.698846153846164\n",
      "7.523076923076923\n",
      "14\n",
      "17.4\n",
      "-12.599612188365663\n",
      "6.587257617728532\n",
      "4\n",
      "17.7\n",
      "-13.740108319542678\n",
      "7.358808485030841\n",
      "12\n",
      "18.0\n",
      "-12.912712660732\n",
      "6.80242334322453\n",
      "0\n",
      "18.3\n",
      "-12.841460352122263\n",
      "6.89449979527774\n",
      "20\n",
      "18.599999999999998\n",
      "-13.220928116469508\n",
      "7.390354868061874\n",
      "2\n",
      "18.9\n",
      "-12.322844883072332\n",
      "6.440677966101695\n",
      "18\n",
      "19.2\n",
      "-11.977896733403638\n",
      "6.310642781875659\n",
      "28\n",
      "19.5\n",
      "-11.140811359026376\n",
      "5.8884381338742395\n",
      "14\n",
      "19.8\n",
      "-11.901959045809585\n",
      "6.37872070930969\n",
      "12\n",
      "20.099999999999998\n",
      "-11.435034744156654\n",
      "6.1998736576121285\n",
      "12\n",
      "20.4\n",
      "-11.354281102271397\n",
      "5.906606710480802\n",
      "-6\n",
      "20.7\n",
      "-11.380462962962973\n",
      "5.983796296296297\n",
      "6\n",
      "21.0\n",
      "-11.204564724703408\n",
      "6.0119984002133044\n",
      "-22\n",
      "21.3\n",
      "-10.822568200606254\n",
      "5.697988426563792\n",
      "24\n",
      "21.599999999999998\n",
      "-10.904725925925932\n",
      "5.736296296296296\n",
      "12\n",
      "21.9\n",
      "-10.458890925756188\n",
      "5.461044912923923\n",
      "20\n",
      "22.2\n",
      "-10.422471066624963\n",
      "5.640913356271504\n",
      "2\n",
      "22.5\n",
      "-10.053938506588564\n",
      "5.231625183016106\n",
      "16\n",
      "22.8\n",
      "-10.319523485364222\n",
      "5.741320626276378\n",
      "-2\n",
      "23.099999999999998\n",
      "-9.635851912456536\n",
      "4.921251789732051\n",
      "8\n",
      "23.4\n",
      "-9.6841682211294\n",
      "5.193488214346278\n",
      "-8\n",
      "23.7\n",
      "-9.842207402467494\n",
      "5.325108369456485\n",
      "-10\n"
     ]
    }
   ],
   "source": [
    "T_list = [0.3 * i for i in range(1,80)]\n",
    "sim_list=[]\n",
    "M_l=[]\n",
    "for T in T_list:\n",
    "    N = 10\n",
    "\n",
    "    H = 1\n",
    "    chain = make_chain(N)\n",
    "    energies, M_list = metropolis(H, chain, T, etol = 1e-6)\n",
    "    l = len(chain)\n",
    "\n",
    "    average = sum(energies)/len(energies)\n",
    "    average2 = sum(M_list)/len(M_list)\n",
    "    sim_list.append(sum(energies)/len(energies))\n",
    "    M_l.append(average2)\n",
    "    print(T) \n",
    "    print (sum(energies)/len(energies))\n",
    "    print(average2)\n",
    "    l = len(chain)\n",
    "    K = 0\n",
    "    for i in range(l):\n",
    "        for j in range(l):\n",
    "            K = K + chain[i][j]\n",
    "    print(K)\n",
    "  "
   ]
  },
  {
   "cell_type": "markdown",
   "metadata": {},
   "source": [
    "Построим зависимость намагниченности от температуры.  "
   ]
  },
  {
   "cell_type": "code",
   "execution_count": 55,
   "metadata": {},
   "outputs": [
    {
     "data": {
      "image/png": "[encoded data removed]",
      "text/plain": [
       "<Figure size 720x360 with 1 Axes>"
      ]
     },
     "metadata": {
      "needs_background": "light"
     },
     "output_type": "display_data"
    }
   ],
   "source": [
    "plt.figure(figsize=(10, 5))\n",
    "T_2=np.array(T_list)\n",
    "plt.plot(T_list, np.array(M_l), label=r'simulation')\n",
    "\n",
    "plt.xlabel(r'$T$', fontsize=14)\n",
    "plt.ylabel(r'$M$', fontsize=14)\n",
    "plt.grid(True)\n",
    "plt.legend(loc='best', fontsize=12)\n",
    "plt.savefig('figure_with_legend.png')\n",
    "plt.show()"
   ]
  },
  {
   "cell_type": "code",
   "execution_count": 56,
   "metadata": {},
   "outputs": [
    {
     "data": {
      "image/png": "[encoded data removed]",
      "text/plain": [
       "<Figure size 720x360 with 1 Axes>"
      ]
     },
     "metadata": {
      "needs_background": "light"
     },
     "output_type": "display_data"
    }
   ],
   "source": [
    "plt.figure(figsize=(10, 5))\n",
    "T_2=np.array(T_list)\n",
    "plt.plot(T_list[:40], np.array(M_l[:40]), label=r'simulation')\n",
    "\n",
    "plt.xlabel(r'$T$', fontsize=14)\n",
    "plt.ylabel(r'$M$', fontsize=14)\n",
    "plt.grid(True)\n",
    "plt.legend(loc='best', fontsize=12)\n",
    "plt.savefig('figure_with_legend.png')\n",
    "plt.show()"
   ]
  },
  {
   "cell_type": "markdown",
   "metadata": {},
   "source": [
    "# Вывод"
   ]
  },
  {
   "cell_type": "markdown",
   "metadata": {},
   "source": [
    "Таким образом мы смоделировали систему спинов 10x10 с помощью алгоритма Метрополиса. Получили зависимость средней энергии от температуры в диапазоне от 0 до 4 J/k, где J – энергия взаимодействия, k – константа Больцмана и проверили наличие фазового перехода(2.3 - 2.5 J/k). Построена зависимость намагниченности от температуры."
   ]
  },
  {
   "cell_type": "code",
   "execution_count": null,
   "metadata": {},
   "outputs": [],
   "source": []
  }
 ],
 "metadata": {
  "kernelspec": {
   "display_name": "Python 3",
   "language": "python",
   "name": "python3"
  },
  "language_info": {
   "codemirror_mode": {
    "name": "ipython",
    "version": 3
   },
   "file_extension": ".py",
   "mimetype": "text/x-python",
   "name": "python",
   "nbconvert_exporter": "python",
   "pygments_lexer": "ipython3",
   "version": "3.8.5"
  }
 },
 "nbformat": 4,
 "nbformat_minor": 4
}
